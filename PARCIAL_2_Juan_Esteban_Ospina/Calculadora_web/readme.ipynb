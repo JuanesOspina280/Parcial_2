{
 "cells": [
  {
   "cell_type": "markdown",
   "metadata": {},
   "source": [
    "# Calculadora Básica en HTML, CSS y JavaScript\n",
    "\n",
    "## Descripción\n",
    "\n",
    "Esta es una calculadora básica desarrollada con HTML, CSS y JavaScript. Permite realizar operaciones como suma, resta, multiplicación, división, módulo y potenciación.\n",
    "\n",
    "## Funcionalidades\n",
    "\n",
    "- **Suma**: Suma dos números.\n",
    "- **Resta**: Resta dos números.\n",
    "- **Multiplicación**: Multiplica dos números.\n",
    "- **División**: Divide dos números (verifica que no sea división por cero).\n",
    "- **Módulo**: Calcula el módulo entre dos números.\n",
    "- **Potenciación**: Eleva un número a la potencia de otro.\n",
    "\n",
    "## Requisitos\n",
    "\n",
    "No se requieren dependencias externas. Solo necesitas un navegador web moderno.\n",
    "\n",
    "## Uso\n",
    "\n",
    "1. Ingresa dos números en los campos correspondientes.\n",
    "2. Haz clic en el botón de la operación que deseas realizar.\n",
    "3. El resultado se mostrará en la parte inferior de la interfaz.\n",
    "\n"
   ]
  }
 ],
 "metadata": {
  "language_info": {
   "name": "python"
  }
 },
 "nbformat": 4,
 "nbformat_minor": 2
}
