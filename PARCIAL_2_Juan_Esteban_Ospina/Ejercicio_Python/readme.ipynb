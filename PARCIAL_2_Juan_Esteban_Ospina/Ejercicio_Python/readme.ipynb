{
 "cells": [
  {
   "cell_type": "markdown",
   "metadata": {},
   "source": [
    "# Calculadora Simple en Tkinter\n",
    "\n",
    "## Descripción\n",
    "\n",
    "Esta es una calculadora simple creada con Python y la biblioteca Tkinter. Permite realizar operaciones básicas como suma, resta, multiplicación, división y potenciación.\n",
    "\n",
    "## Funcionalidades\n",
    "\n",
    "- **Suma**: Suma dos números.\n",
    "- **Resta**: Resta dos números.\n",
    "- **Multiplicación**: Multiplica dos números.\n",
    "- **División**: Divide dos números (no permite división por cero).\n",
    "- **Potenciación**: Eleva un número a la potencia de otro (no permite elevar a la potencia de cero).\n",
    "\n",
    "## Requisitos\n",
    "\n",
    "Asegúrate de tener Python y Tkinter instalados en tu entorno. Tkinter generalmente se incluye con la instalación de Python.\n",
    "\n",
    "## Instalación\n",
    "\n",
    "1. Clona este repositorio o descarga el archivo de script.\n",
    "2. Abre un terminal y navega a la carpeta donde se encuentra el archivo.\n",
    "3. Ejecuta el script con el siguiente comando:\n",
    "\n",
    "   ```bash\n",
    "   python calculadora.py\n"
   ]
  }
 ],
 "metadata": {
  "language_info": {
   "name": "python"
  }
 },
 "nbformat": 4,
 "nbformat_minor": 2
}
